{
 "cells": [
  {
   "metadata": {},
   "cell_type": "markdown",
   "source": [
    "## 'Smart' Order Management Simulation Software\n",
    "1. **Event-Driven Architecture**: Processes orders in true time sequence\n",
    "2. **Dynamic Worker Management**: Handles attendant availability changes\n",
    "3. **Intelligent Routing**: Maximizes order acceptance while respecting constraints"
   ],
   "id": "bcec9433e3f1567a"
  },
  {
   "metadata": {
    "ExecuteTime": {
     "end_time": "2025-04-06T19:13:59.959430Z",
     "start_time": "2025-04-06T19:13:59.944075Z"
    }
   },
   "cell_type": "code",
   "source": [
    "import heapq\n",
    "import random\n",
    "from dataclasses import dataclass, field\n",
    "from typing import List, Dict"
   ],
   "id": "d6ac40a0eabf0f8c",
   "outputs": [],
   "execution_count": 40
  },
  {
   "metadata": {},
   "cell_type": "markdown",
   "source": [
    "## 1. Event Class\n",
    "The core building block for managing temporal events"
   ],
   "id": "42273f3674c19c5"
  },
  {
   "metadata": {
    "ExecuteTime": {
     "end_time": "2025-04-06T19:13:59.972779Z",
     "start_time": "2025-04-06T19:13:59.970174Z"
    }
   },
   "cell_type": "code",
   "source": [
    "@dataclass(order=True)\n",
    "class Event:\n",
    "    time: float\n",
    "    type: str = field(compare=False)  # states include: \"order_arrival\" or \"order_completion\"\n",
    "    data: dict = field(compare=False)"
   ],
   "id": "ca6d88883a4d225",
   "outputs": [],
   "execution_count": 41
  },
  {
   "metadata": {},
   "cell_type": "markdown",
   "source": [
    "## 2. Attendant Class\n",
    "Models each worker with state tracking and constraint enforcement"
   ],
   "id": "88e0e702d1d66f63"
  },
  {
   "metadata": {
    "ExecuteTime": {
     "end_time": "2025-04-06T19:13:59.984484Z",
     "start_time": "2025-04-06T19:13:59.980127Z"
    }
   },
   "cell_type": "code",
   "source": [
    "class Attendant:\n",
    "    def __init__(self, name: str):\n",
    "        self.name = name\n",
    "        self.active_orders: List[float] = []  # Start times of active orders\n",
    "        self.status: str = \"active\"  # statuss i.e 'active', 'inactive', 'overloaded'\n",
    "        self.next_available: float = 0  # Next time slot for new orders\n",
    "\n",
    "    def update_state(self, current_time: float):\n",
    "        \"\"\"Update order completion status and availability\"\"\"\n",
    "        # Remove completed orders i.e, orders older than 5 secs\n",
    "        self.active_orders = [t for t in self.active_orders if t + 5 > current_time]\n",
    "\n",
    "        # Calculate next availability\n",
    "        if len(self.active_orders) == 0:\n",
    "            self.next_available = current_time\n",
    "        elif len(self.active_orders) == 1:\n",
    "            self.next_available = max(current_time, self.active_orders[0] + 3)\n",
    "        else:\n",
    "            self.next_available = max(\n",
    "                self.active_orders[0] + 5,  # First order completes\n",
    "                self.active_orders[1] + 3  # Cooldown from second order\n",
    "            )\n",
    "\n",
    "    def can_accept(self, current_time: float) -> bool:\n",
    "        if self.status != \"active\":\n",
    "            return False\n",
    "        return current_time >= self.next_available and len(self.active_orders) < 2\n",
    "\n",
    "    def start_order(self, start_time: float):\n",
    "        self.active_orders.append(start_time)\n",
    "        self.active_orders.sort()\n"
   ],
   "id": "245446a69bdda49a",
   "outputs": [],
   "execution_count": 42
  },
  {
   "metadata": {},
   "cell_type": "markdown",
   "source": [
    "## 3. Orchestrator System\n",
    "**core controller we use for managing the entire order processing flow**\n",
    "\n",
    "### Key Responsibilities:\n",
    "1. **Event Management**:\n",
    "   - Maintains priority queue of future events (orders/completions)\n",
    "   - Processes events in chronological order\n",
    "   - Auto-schedules order completion events\n",
    "\n",
    "2. **Intelligent Routing**:\n",
    "   - Evaluates all attendant's availability in realtime\n",
    "   - Selects optimal attendant using:\n",
    "     - Current workload (number of active orders)\n",
    "     - Random factor for load balancing\n",
    "     - Status awareness (active/inactive)\n",
    "\n",
    "3. **State Synchronization**:\n",
    "   - updates all attendant;s availability before each decision\n",
    "   - Handles attendant status changes (active/inactive)\n",
    "   - Maintains global simulation clock\n",
    "\n",
    "4. **Failure Handling**:\n",
    "   - Automatically rejects orders when no attendants available\n",
    "   - Tracks processed/rejected orders statistics and logs statuses to stdout"
   ],
   "id": "41b240bde75cda7b"
  },
  {
   "metadata": {
    "ExecuteTime": {
     "end_time": "2025-04-06T19:14:00.006933Z",
     "start_time": "2025-04-06T19:13:59.997310Z"
    }
   },
   "cell_type": "code",
   "source": [
    "class Orchestrator:\n",
    "    def __init__(self, attendants: List[Attendant]):\n",
    "        self.attendants = {a.name: a for a in attendants}\n",
    "        self.event_queue = []\n",
    "        self.current_time = 0.0\n",
    "        self.processed = 0\n",
    "        self.rejected = 0\n",
    "\n",
    "    def add_order(self, arrival_time: float):\n",
    "        heapq.heappush(self.event_queue, Event(arrival_time, 'order_arrival', {}))\n",
    "\n",
    "    def update_attendant_status(self, name: str, status: str):\n",
    "        \"\"\"Handle attendant shutdown/revival events\"\"\"\n",
    "        self.attendants[name].status = status\n",
    "        if status == 'active':\n",
    "            self.attendants[name].update_state(self.current_time)\n",
    "\n",
    "    def process_events(self):\n",
    "        while self.event_queue:\n",
    "            event = heapq.heappop(self.event_queue)\n",
    "            self.current_time = event.time\n",
    "\n",
    "            if event.type == 'order_arrival':\n",
    "                self.handle_order_arrival()\n",
    "            elif event.type == 'order_completion':\n",
    "                self.handle_order_completion(event.data['attendant'])\n",
    "\n",
    "    def handle_order_arrival(self):\n",
    "        candidates = []\n",
    "        for name, attendant in self.attendants.items():\n",
    "            attendant.update_state(self.current_time)\n",
    "\n",
    "            if attendant.can_accept(self.current_time):\n",
    "                # calculate priority, i.e, we prefer attendants with fewer active orders\n",
    "                priority = (len(attendant.active_orders), random.random())\n",
    "                candidates.append((priority, name))\n",
    "\n",
    "        if candidates:\n",
    "            # Select attendant with best availability\n",
    "            _, best = min(candidates)\n",
    "            self.attendants[best].start_order(self.current_time)\n",
    "            self.processed += 1\n",
    "\n",
    "            # Schedule order completion\n",
    "            heapq.heappush(\n",
    "                self.event_queue,\n",
    "                Event(self.current_time + 5, 'order_completion', {'attendant': best})\n",
    "            )\n",
    "\n",
    "            print(f\"[{self.current_time:.2f}] Order accepted by {best}\")\n",
    "        else:\n",
    "            self.rejected += 1\n",
    "            print(f\"[{self.current_time:.2f}] Order rejected\")\n",
    "\n",
    "    def handle_order_completion(self, attendant_name: str):\n",
    "        print(f\"[{self.current_time:.2f}] Order completed by {attendant_name}\")\n",
    "        self.attendants[attendant_name].update_state(self.current_time)\n"
   ],
   "id": "9091b404deff10d5",
   "outputs": [],
   "execution_count": 43
  },
  {
   "metadata": {},
   "cell_type": "markdown",
   "source": [
    "## 4. Example Usage\n",
    "Demonstrates the system in action\n",
    "We can interrupt execution by add"
   ],
   "id": "eb515a6003052a0c"
  },
  {
   "metadata": {
    "ExecuteTime": {
     "end_time": "2025-04-06T19:14:00.020736Z",
     "start_time": "2025-04-06T19:14:00.018064Z"
    }
   },
   "cell_type": "code",
   "source": [
    "if __name__ == \"__main__\":\n",
    "    # we Initialize system with 2 attendants\n",
    "    attendants = [Attendant(\"Alice\"), Attendant(\"Bob\")]\n",
    "    orchestrator = Orchestrator(attendants)\n",
    "\n",
    "    # Simulate random order arrivals\n",
    "    for _ in range(20):\n",
    "        orchestrator.add_order(random.uniform(0, 30))\n",
    "\n",
    "    # Simulate attendant B going offline at time 10\n",
    "    orchestrator.add_order(10.0)  # Special event for shutdown\n",
    "    heapq.heappush(orchestrator.event_queue,\n",
    "                   Event(10.0, 'order_completion', {'attendant': 'Bob'}))\n",
    "\n",
    "    orchestrator.process_events()\n",
    "\n",
    "    print(f\"\\nTotal processed: {orchestrator.processed}\")\n",
    "    print(f\"Total rejected: {orchestrator.rejected}\")"
   ],
   "id": "ba88b7d70f29d32f",
   "outputs": [
    {
     "name": "stdout",
     "output_type": "stream",
     "text": [
      "[5.67] Order accepted by Alice\n",
      "[6.09] Order accepted by Bob\n",
      "[7.82] Order rejected\n",
      "[9.46] Order accepted by Alice\n",
      "[10.00] Order completed by Bob\n",
      "[10.00] Order accepted by Bob\n",
      "[10.35] Order rejected\n",
      "[10.67] Order completed by Alice\n",
      "[10.93] Order rejected\n",
      "[11.09] Order completed by Bob\n",
      "[12.25] Order rejected\n",
      "[12.35] Order rejected\n",
      "[12.99] Order accepted by Alice\n",
      "[14.46] Order completed by Alice\n",
      "[14.46] Order accepted by Bob\n",
      "[15.00] Order completed by Bob\n",
      "[15.31] Order rejected\n",
      "[16.71] Order accepted by Alice\n",
      "[17.14] Order rejected\n",
      "[17.99] Order completed by Alice\n",
      "[19.39] Order accepted by Bob\n",
      "[19.46] Order completed by Bob\n",
      "[20.77] Order accepted by Alice\n",
      "[21.36] Order rejected\n",
      "[21.71] Order completed by Alice\n",
      "[21.76] Order rejected\n",
      "[24.39] Order completed by Bob\n",
      "[25.49] Order accepted by Bob\n",
      "[25.77] Order completed by Alice\n",
      "[29.20] Order accepted by Alice\n",
      "[29.77] Order accepted by Bob\n",
      "[30.49] Order completed by Bob\n",
      "[34.20] Order completed by Alice\n",
      "[34.77] Order completed by Bob\n",
      "\n",
      "Total processed: 12\n",
      "Total rejected: 9\n"
     ]
    }
   ],
   "execution_count": 44
  }
 ],
 "metadata": {
  "kernelspec": {
   "display_name": "Python 3",
   "language": "python",
   "name": "python3"
  },
  "language_info": {
   "codemirror_mode": {
    "name": "ipython",
    "version": 2
   },
   "file_extension": ".py",
   "mimetype": "text/x-python",
   "name": "python",
   "nbconvert_exporter": "python",
   "pygments_lexer": "ipython2",
   "version": "2.7.6"
  }
 },
 "nbformat": 4,
 "nbformat_minor": 5
}
